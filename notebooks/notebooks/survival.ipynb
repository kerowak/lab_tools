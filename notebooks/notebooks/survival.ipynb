{
 "cells": [
  {
   "cell_type": "code",
   "execution_count": null,
   "id": "2af6fe8c-3239-48ca-b42c-cad75af8cd70",
   "metadata": {},
   "outputs": [],
   "source": [
    "%run experiment_chooser.ipynb"
   ]
  },
  {
   "cell_type": "code",
   "execution_count": null,
   "id": "c645da5f-a24d-419e-928a-6ff015069d08",
   "metadata": {},
   "outputs": [],
   "source": [
    "library(glue)\n",
    "library(survival)\n",
    "\n",
    "#+TAG: DIRTY\n",
    "\n",
    "EXPERIMENTS <- file.path(\"\", \"nfs\", \"turbo\", \"umms-sbarmada\", \"experiments\")\n",
    "\n",
    "EXPERIMENT_NAME <- \"JW24\"\n",
    "\n",
    "experiment <- file.path(EXPERIMENTS, EXPERIMENT_NAME)\n",
    "results <- file.path(experiment, \"results\")\n",
    "csvs <- Sys.glob(file.path(results, glue::glue(\"{EXPERIMENT_NAME}_surv_data.csv\")))\n",
    "stopifnot(length(csvs) == 1)\n",
    "csv_path <- csvs[1]\n",
    "\n",
    "colors = c('red', 'blue', 'grey', 'yellow', 'aquamarine', 'black', 'orange', 'cyan', 'violet', 'blueviolet', 'bisque4')\n",
    "\n",
    "setwd(results)\n",
    "\n",
    "df <- read.csv(csv_path, header=TRUE)\n",
    "\n",
    "#Rearrange groups left to right by plate layout\n",
    "df$group <- factor(df$group, levels=as.character(unique(df[order(df$column),]$group)))\n",
    "\n",
    "\n",
    "#Appends the sample size (n) to each group\n",
    "ballislife<-levels(factor(df$group))\n",
    "sample_size<-as.character(summary(df$group))\n",
    "groups_with_n<-paste0(ballislife,\" (n=\",sample_size,\")\")\n",
    "\n",
    "#Cox hazard analysis\n",
    "coxfit <- coxph(Surv(last_time, as.logical(censored)) ~ group, data=df)\n",
    "#Output Cox hazards analysis\n",
    "capture.output(summary(coxfit), file = paste(\"cox_hazard.txt\"))\n",
    "summary(coxfit)\n",
    "\n",
    "#Cox hazards analysis\n",
    "coxfit <- coxph(Surv(last_time, as.logical(censored)) ~ group, data=df)\n",
    "\n",
    "#Log-rank test\n",
    "lrtest <- survdiff(Surv(last_time, as.logical(censored)) ~ group, data=df, rho=0)\n",
    "lrtest\n",
    "\n",
    "#Testing proportional hazards assumption for Cox regression model fit\n",
    "cox.zph(coxfit)\n",
    "\n",
    "#Plot and output Cox hazard results\n",
    "fname = paste(EXPERIMENT_NAME, \"hazard_plot.pdf\", sep=\"_\")\n",
    "pdf(file=fname, width=10)\n",
    "coxfit <- coxph(Surv(last_time, as.logical(censored)) ~ strata(group), data=df)\n",
    "title = paste(EXPERIMENT_NAME, \" Cumulative Hazards\")\n",
    "plot(survfit(coxfit), fun=\"cumhaz\", main=title, xlab=\"Time (hr)\",\n",
    "     ylab=\"Cumulative risk of death\", col=colors, lwd=5)\n",
    "legend(\"topleft\", legend=groups_with_n, col=colors, lwd=2, cex=.8)\n",
    "dev.off()\n",
    "\n",
    "#Save workspace\n",
    "save.image(file=paste(EXPERIMENT_NAME, \"RData\", sep=\".\"))"
   ]
  }
 ],
 "metadata": {
  "kernelspec": {
   "display_name": "R",
   "language": "R",
   "name": "ir"
  },
  "language_info": {
   "codemirror_mode": "r",
   "file_extension": ".r",
   "mimetype": "text/x-r-source",
   "name": "R",
   "pygments_lexer": "r",
   "version": "4.1.0"
  }
 },
 "nbformat": 4,
 "nbformat_minor": 5
}
