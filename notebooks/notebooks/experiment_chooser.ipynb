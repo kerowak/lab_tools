{
 "cells": [
  {
   "cell_type": "markdown",
   "id": "481c0b1f-de3a-4cbf-bdca-4ce7bb355e8e",
   "metadata": {},
   "source": [
    "# Experiment Chooser\n",
    "This widget will allow you to select an experiment directory and persist your choice across notebook boundaries. That means you only need to select your experiment once even if you're running analyses in multiple notebooks.\n",
    "\n",
    "The widget accomplishes this behavior through usage of the %store magic command. When you initially select an experiment, the path to that experiment will be persisted globally by calling %store experiment_base. You can retrieve the selected path by calling %store -r experiment_base to import that variable to your local namespace. The widget will attempt to retrieve experiment_base whenever it is rendered, and if found it will render with experiment_base already selected.\n",
    "\n",
    "call it with the magic command `%run experiment_chooser.ipynb`"
   ]
  },
  {
   "cell_type": "code",
   "execution_count": null,
   "id": "81718b63-998a-4e5b-a6e8-f4d8d981a7ae",
   "metadata": {},
   "outputs": [],
   "source": [
    "from ipyfilechooser import FileChooser\n",
    "from common.utils import try_load_mfile\n",
    "\n",
    "import pathlib\n",
    "\n",
    "EXPERIMENT_DIRECTORY = \"/nfs/turbo/umms-sbarmada/experiments\"\n",
    "\n",
    "def verify_experiment_dir(chooser):\n",
    "    path = pathlib.Path(fc.selected_path)\n",
    "    try:\n",
    "        # magic command resolution is weird so we have to define these vars as globals and use them outside the try/except\n",
    "        global spec; spec = try_load_mfile(path)\n",
    "        global experiment_base; experiment_base = path\n",
    "        chooser.title = \"\"\n",
    "    except Exception as e:\n",
    "        chooser.title = f'<b style=\"color:red\">Error: {e}</b>'\n",
    "    %store spec\n",
    "    %store experiment_base\n",
    "\n",
    "fc = FileChooser(EXPERIMENT_DIRECTORY, show_only_dirs=True)\n",
    "fc.title = \"<b>Select experiment directory</b>\"\n",
    "fc.register_callback(verify_experiment_dir)\n",
    "\n",
    "try:\n",
    "    %store -r experiment_base\n",
    "    fc.default_path = experiment_base\n",
    "    fc.title = \"\"\n",
    "    fc._apply_selection()\n",
    "except NameError:\n",
    "    pass\n",
    "\n",
    "display(fc)"
   ]
  }
 ],
 "metadata": {
  "kernelspec": {
   "display_name": "barma",
   "language": "python",
   "name": "barma"
  },
  "language_info": {
   "codemirror_mode": {
    "name": "ipython",
    "version": 3
   },
   "file_extension": ".py",
   "mimetype": "text/x-python",
   "name": "python",
   "nbconvert_exporter": "python",
   "pygments_lexer": "ipython3",
   "version": "3.10.4"
  }
 },
 "nbformat": 4,
 "nbformat_minor": 5
}
