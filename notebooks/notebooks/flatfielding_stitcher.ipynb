{
 "cells": [
  {
   "cell_type": "markdown",
   "id": "4d8bab65-0430-4d11-ba39-ad863198a474",
   "metadata": {},
   "source": [
    "# Flatfielding Stitcher\n",
    "\n",
    "If you're acquiring mosaics, you probably want to flatfield the images before you stitch them. Chances are, you probably don't care about the intermediate flatfielded & unstitched images. This utility will flatfield & stitch your images in one step without leaving all the intermediate gunk lying around!\n",
    "\n",
    "The flatfielder works by first identifying a group of images with a common background profile. The flatfielder forms a group by finding images with a common imaging channel & exposure length. It then randomly selects N images from that group and computes a median image. The median image is then subtracted from each member of the group. The resulting flatfielded images are fed onward into the stitcher, and the final outputs are written to the processed_imgs/stitched folder."
   ]
  },
  {
   "cell_type": "code",
   "execution_count": null,
   "id": "369ed48e-0deb-4833-b227-5058a84d24ec",
   "metadata": {},
   "outputs": [],
   "source": [
    "from ipyfilechooser import FileChooser\n",
    "from common import ImgMeta\n",
    "from common.utils import try_load_mfile, extract_meta\n",
    "from improc.flatfield import background_from_paths, trunc_sub\n",
    "from improc.stitching import stitch\n",
    "from collections import defaultdict\n",
    "from multiprocessing import Pool\n",
    "import numpy as np\n",
    "import os\n",
    "import itertools\n",
    "import PIL\n",
    "import pathlib\n",
    "import random\n",
    "\n",
    "# num imgs to sample when constructing a background image\n",
    "SAMPLE_SIZE = 100\n",
    "\n",
    "# num cores available\n",
    "N_CORES = 18\n",
    "\n",
    "EXPERIMENT_DIRECTORY = \"/nfs/turbo/umms-sbarmada/experiments\"\n",
    "\n",
    "def key_func(meta: ImgMeta):\n",
    "    return (meta.time_point, meta.col, meta.row)\n",
    "\n",
    "def read_and_flatfield(path: pathlib.Path, bg: np.ndarray) -> np.ndarray:\n",
    "    img = np.array(PIL.Image.open(path)).astype(bg.dtype)\n",
    "    return trunc_sub(img, bg)\n",
    "\n",
    "def save(arr: np.ndarray, meta: ImgMeta):\n",
    "    well_label = meta.path.name.split(\".\")[0].split(\"_\")[0] + \".tif\"\n",
    "    relative_path = meta.path.relative_to(experiment_base / \"raw_imgs\").parent\n",
    "    output_base = experiment_base / \"processed_imgs\" / \"stitched\" / relative_path\n",
    "    os.makedirs(output_base, exist_ok=True)\n",
    "    print(f\"T{meta.time_point}|{well_label}\")\n",
    "    PIL.Image.fromarray(arr).save(output_base / well_label)\n",
    "\n",
    "def flatfield_and_stitch(args):\n",
    "    background, metas = args\n",
    "    sorted_metas = sorted(metas, key=lambda x: x.montage_idx)\n",
    "    images = [read_and_flatfield(meta.path, background) for meta in sorted_metas]\n",
    "    stitched = stitch(spec.microscope, images)\n",
    "    save(stitched, sorted_metas[0])\n",
    "    \n",
    "def verify_experiment_dir(chooser):\n",
    "    path = pathlib.Path(fc.selected_path)\n",
    "    try:\n",
    "        global experiment_base\n",
    "        global spec\n",
    "        spec = try_load_mfile(path)\n",
    "        experiment_base = path\n",
    "        chooser.title = \"\"\n",
    "    except Exception as e:\n",
    "        chooser.title = f'<b style=\"color:red\">Error: {e}</b>'\n",
    "\n",
    "fc = FileChooser(EXPERIMENT_DIRECTORY)\n",
    "fc.title = \"<b>Select experiment directory</b>\"\n",
    "fc.register_callback(verify_experiment_dir)\n",
    "display(fc)"
   ]
  },
  {
   "cell_type": "code",
   "execution_count": null,
   "id": "a016964f-be3f-4742-a636-43cd344dcae1",
   "metadata": {
    "scrolled": true,
    "tags": []
   },
   "outputs": [],
   "source": [
    "# group acquisitions by (channel, exposure) for flatfielding\n",
    "acquisition_groups = defaultdict(list)\n",
    "for well in spec.wells:\n",
    "    for exposure in well.exposures:\n",
    "        raw_img_glob = (experiment_base / \"raw_imgs\").glob(f\"{exposure.channel}/**/{well.label}*.tif\")\n",
    "        acquisition_groups[(exposure.channel, exposure.exposure_ms)] += map(extract_meta, raw_img_glob)\n",
    "    \n",
    "\n",
    "with Pool(N_CORES) as p:\n",
    "    for params, group in acquisition_groups.items():\n",
    "\n",
    "        # generate backgrounds from grouped acquisitions\n",
    "        print(f\"Flatfielding and stitching for {params}...\")\n",
    "        sample = map(lambda x: x.path, random.choices(group, k=min(SAMPLE_SIZE, len(group))))\n",
    "        background = background_from_paths(sample).astype(np.uint16)\n",
    "\n",
    "        # now further subdivide the acquisition groups into montage sets and order by montage idx\n",
    "        metas_sets = [(background, list(metas)) for _, metas in itertools.groupby(group, key_func)]\n",
    "        for _ in p.map(flatfield_and_stitch, metas_sets):\n",
    "            continue\n",
    "\n",
    "print(\"Done!\")"
   ]
  },
  {
   "cell_type": "code",
   "execution_count": null,
   "id": "f02f02aa-75ea-486b-bb99-1947037a9bd3",
   "metadata": {},
   "outputs": [],
   "source": []
  }
 ],
 "metadata": {
  "kernelspec": {
   "display_name": "barma",
   "language": "python",
   "name": "barma"
  },
  "language_info": {
   "codemirror_mode": {
    "name": "ipython",
    "version": 3
   },
   "file_extension": ".py",
   "mimetype": "text/x-python",
   "name": "python",
   "nbconvert_exporter": "python",
   "pygments_lexer": "ipython3",
   "version": "3.10.2"
  }
 },
 "nbformat": 4,
 "nbformat_minor": 5
}
